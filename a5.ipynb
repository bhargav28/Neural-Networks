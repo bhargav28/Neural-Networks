{
 "cells": [
  {
   "cell_type": "markdown",
   "metadata": {},
   "source": [
    "# Programming a neural network layer\n",
    "\n",
    "Work through the _to-be-provided_ documentation how to create a custom Keras layer.\n",
    "\n",
    "## Task 5.1\n",
    "\n",
    "Create a [custom Keras layer](https://www.tensorflow.org/guide/keras/custom_layers_and_models) that computes Gaussian basis functions, i.e. a layer that maps an input vector $\\mathbf x \\in \\mathbb R^n$ onto an output vector $\\mathbf y = f(\\mathbf x) \\in \\mathbb R^m$ as follows:\n",
    "\\begin{align}\n",
    "  f: \\mathbf x \\in \\mathbb R^n \\mapsto \\left[w_i \\exp\\left(-\\frac{\\|\\mathbf x - \\boldsymbol\\mu_i\\|^2}{\\sigma_i^2}\\right)\\right]_{i=1..m} \\in \\mathbb R^m\n",
    "\\end{align}\n",
    "\n",
    "To simplify matters, you can consider $\\sigma_i \\equiv 1$. If you are very enthusiastic, you can consider trainable $\\sigma_i$."
   ]
  },
  {
   "cell_type": "markdown",
   "metadata": {},
   "source": [
    "## Task 5.2\n",
    "\n",
    "Compare the performance of such a Gaussian basis function layer with that of a standard [`Dense`](https://www.tensorflow.org/api_docs/python/tf/keras/layers/Dense) layer on the MNIST dataset.  \n",
    "How many parameters each of those networks have?  \n",
    "Refer to Riza's introductory Colab notebook for a basic Keras network for MNIST classification. **I couldn't find the MNIST stuff anymore? Maybe refer to another MNIST example.**"
   ]
  }
 ],
 "metadata": {
  "language_info": {
   "codemirror_mode": {
    "name": "ipython",
    "version": 3
   },
   "file_extension": ".py",
   "mimetype": "text/x-python",
   "name": "python",
   "nbconvert_exporter": "python",
   "pygments_lexer": "ipython3",
   "version": 3
  },
  "orig_nbformat": 2
 },
 "nbformat": 4,
 "nbformat_minor": 2
}